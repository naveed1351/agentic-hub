{
 "cells": [
  {
   "cell_type": "markdown",
   "metadata": {},
   "source": [
    "# Using Semantic Kernel with MCP Servers\n",
    "\n",
    "In this notebook, we'll connect a simple SK Agent to an MCP Server.\n",
    "\n",
    "The full example can be found at [microsoft/OpenAIWorkshop](https://github.com/microsoft/OpenAIWorkshop/).\n"
   ]
  },
  {
   "cell_type": "markdown",
   "metadata": {},
   "source": [
    "First, let's start our MCP server.\n",
    "\n",
    "Open a new terminal and run:\n",
    "\n",
    "using uv:\n",
    "```shell\n",
    "cd 03-semantic-kernel-mcp\\\n",
    "uv run --prerelease=allow mcp_server.py\n",
    "```\n",
    "\n",
    "using pip:\n",
    "```shell\n",
    "pip install fastmcp\n",
    "cd .\\03-semantic-kernel-mcp\\\n",
    "python .\\mcp_server.py\n",
    "```\n",
    "\n",
    "The server should come up like this:\n",
    "\n",
    "```\n",
    "INFO:     Started server process [49488]\n",
    "INFO:     Waiting for application startup.\n",
    "INFO:     Application startup complete.\n",
    "INFO:     Uvicorn running on http://0.0.0.0:8000 (Press CTRL+C to quit)\n",
    "```\n",
    "\n",
    "Great, ready to go, let's connect SK to it:"
   ]
  },
  {
   "cell_type": "code",
   "execution_count": null,
   "metadata": {},
   "outputs": [],
   "source": [
    "from semantic_kernel.agents import ChatCompletionAgent, ChatHistoryAgentThread\n",
    "from semantic_kernel.connectors.ai.open_ai import AzureChatCompletion\n",
    "from semantic_kernel.connectors.mcp import MCPSsePlugin\n",
    "\n",
    "# Set up the SSE plugin for the MCP service.\n",
    "contoso_mcp_plugin = MCPSsePlugin(\n",
    "    name=\"ContosoMCP\",\n",
    "    description=\"Contoso MCP Plugin\",\n",
    "    url=\"http://localhost:8000/sse\", # Replace this if you're not running it locally\n",
    "    headers={\"Content-Type\": \"application/json\"},\n",
    "    timeout=30,\n",
    ")\n",
    "\n",
    "# Open the SSE connection so tools/prompts are loaded\n",
    "await contoso_mcp_plugin.connect()\n",
    "\n",
    "# Now create our agent and plug in the MCP plugin\n",
    "agent = ChatCompletionAgent(\n",
    "    service=AzureChatCompletion(),\n",
    "    name=\"ChatBot\",\n",
    "    instructions=\"You are a helpful assistant. You can use multiple tools to find information \"\n",
    "    \"and answer questions. Review the tools available under the MCPTools plugin \"\n",
    "    \"and use them as needed. You can also ask clarifying questions if the user is not clear.\",\n",
    "    plugins=[contoso_mcp_plugin],\n",
    ")\n",
    "\n",
    "# Same as prior in our workshop \n",
    "thread: ChatHistoryAgentThread = None\n",
    "user_messages = [\n",
    "    \"I noticed my last invoice was higher than usual—can you help me understand why and what can be done about it?\",\n",
    "    \"My customer id is 42\",\n",
    "    ]\n",
    "\n",
    "for user_message in user_messages:\n",
    "    print(\"*** User:\", user_message)\n",
    "    response = await agent.get_response(messages=user_message, thread=thread)\n",
    "    thread = response.thread\n",
    "    print(\"*** Agent:\", response.content)\n",
    "\n"
   ]
  },
  {
   "cell_type": "code",
   "execution_count": null,
   "metadata": {},
   "outputs": [],
   "source": []
  }
 ],
 "metadata": {
  "kernelspec": {
   "display_name": ".venv",
   "language": "python",
   "name": "python3"
  },
  "language_info": {
   "codemirror_mode": {
    "name": "ipython",
    "version": 3
   },
   "file_extension": ".py",
   "mimetype": "text/x-python",
   "name": "python",
   "nbconvert_exporter": "python",
   "pygments_lexer": "ipython3",
   "version": "3.12.10"
  }
 },
 "nbformat": 4,
 "nbformat_minor": 2
}
